{
  "cells": [
    {
      "cell_type": "markdown",
      "metadata": {
        "id": "view-in-github",
        "colab_type": "text"
      },
      "source": [
        "<a href=\"https://colab.research.google.com/github/suadamohammed/coco/blob/main/cocoa_leaves_classification_binary.ipynb\" target=\"_parent\"><img src=\"https://colab.research.google.com/assets/colab-badge.svg\" alt=\"Open In Colab\"/></a>"
      ]
    },
    {
      "cell_type": "code",
      "source": [
        "from google.colab import drive\n",
        "drive.mount('/content/drive')"
      ],
      "metadata": {
        "colab": {
          "base_uri": "https://localhost:8080/"
        },
        "id": "JlIQE4cxbCrJ",
        "outputId": "ac3239c5-1560-44a4-9425-8c1938c5c54a"
      },
      "execution_count": null,
      "outputs": [
        {
          "output_type": "stream",
          "name": "stdout",
          "text": [
            "Mounted at /content/drive\n"
          ]
        }
      ]
    },
    {
      "cell_type": "code",
      "execution_count": null,
      "metadata": {
        "colab": {
          "base_uri": "https://localhost:8080/"
        },
        "id": "zQK9VFEZa61f",
        "outputId": "9093e8c7-0c5d-4b61-80c1-630111f9d39b"
      },
      "outputs": [
        {
          "output_type": "stream",
          "name": "stdout",
          "text": [
            "Healthy,no of files,28\n",
            "MnDef,no of files,99\n",
            "(127, 120, 120, 3)\n",
            "['Healthy', 'Healthy', 'Healthy', 'Healthy', 'Healthy', 'Healthy', 'Healthy', 'Healthy', 'Healthy', 'Healthy', 'Healthy', 'Healthy', 'Healthy', 'Healthy', 'Healthy', 'Healthy', 'Healthy', 'Healthy', 'Healthy', 'Healthy', 'Healthy', 'Healthy', 'Healthy', 'Healthy', 'Healthy', 'Healthy', 'Healthy', 'Healthy', 'MnDef', 'MnDef', 'MnDef', 'MnDef', 'MnDef', 'MnDef', 'MnDef', 'MnDef', 'MnDef', 'MnDef', 'MnDef', 'MnDef', 'MnDef', 'MnDef', 'MnDef', 'MnDef', 'MnDef', 'MnDef', 'MnDef', 'MnDef', 'MnDef', 'MnDef', 'MnDef', 'MnDef', 'MnDef', 'MnDef', 'MnDef', 'MnDef', 'MnDef', 'MnDef', 'MnDef', 'MnDef', 'MnDef', 'MnDef', 'MnDef', 'MnDef', 'MnDef', 'MnDef', 'MnDef', 'MnDef', 'MnDef', 'MnDef', 'MnDef', 'MnDef', 'MnDef', 'MnDef', 'MnDef', 'MnDef', 'MnDef', 'MnDef', 'MnDef', 'MnDef', 'MnDef', 'MnDef', 'MnDef', 'MnDef', 'MnDef', 'MnDef', 'MnDef', 'MnDef', 'MnDef', 'MnDef', 'MnDef', 'MnDef', 'MnDef', 'MnDef', 'MnDef', 'MnDef', 'MnDef', 'MnDef', 'MnDef', 'MnDef', 'MnDef', 'MnDef', 'MnDef', 'MnDef', 'MnDef', 'MnDef', 'MnDef', 'MnDef', 'MnDef', 'MnDef', 'MnDef', 'MnDef', 'MnDef', 'MnDef', 'MnDef', 'MnDef', 'MnDef', 'MnDef', 'MnDef', 'MnDef', 'MnDef', 'MnDef', 'MnDef', 'MnDef', 'MnDef', 'MnDef', 'MnDef']\n"
          ]
        }
      ],
      "source": [
        "import os\n",
        "from PIL import Image\n",
        "import numpy as np\n",
        "import os\n",
        "\n",
        "\n",
        "X = []\n",
        "y = []\n",
        "\n",
        "base_path='/content/drive/MyDrive/ICAR_Coco'\n",
        "source_path=base_path\n",
        "\n",
        "for child in os.listdir(source_path):\n",
        "    count_child=0\n",
        "    sub_path = os.path.join(source_path, child)\n",
        "    if os.path.isdir(sub_path):\n",
        "        for data_file in os.listdir(sub_path):\n",
        "            count_child+=1\n",
        "            X_i = Image.open(os.path.join(sub_path, data_file))\n",
        "            X_i = np.array(X_i.resize((120,120))) / 255.0\n",
        "            X.append(X_i)\n",
        "            y.append(child)\n",
        "        print(f\"{child},no of files,{count_child}\")\n",
        "print(np.shape(X))\n",
        "print(y)"
      ]
    },
    {
      "cell_type": "code",
      "execution_count": null,
      "metadata": {
        "colab": {
          "base_uri": "https://localhost:8080/"
        },
        "id": "OCoRjdtia61t",
        "outputId": "2f1c50ff-9871-49d0-8081-ef9e6e64dfa9"
      },
      "outputs": [
        {
          "output_type": "stream",
          "name": "stdout",
          "text": [
            "[0 0 0 0 0 0 0 0 0 0 0 0 0 0 0 0 0 0 0 0 0 0 0 0 0 0 0 0 1 1 1 1 1 1 1 1 1\n",
            " 1 1 1 1 1 1 1 1 1 1 1 1 1 1 1 1 1 1 1 1 1 1 1 1 1 1 1 1 1 1 1 1 1 1 1 1 1\n",
            " 1 1 1 1 1 1 1 1 1 1 1 1 1 1 1 1 1 1 1 1 1 1 1 1 1 1 1 1 1 1 1 1 1 1 1 1 1\n",
            " 1 1 1 1 1 1 1 1 1 1 1 1 1 1 1 1]\n"
          ]
        }
      ],
      "source": [
        "from sklearn.preprocessing import LabelEncoder\n",
        "encoder = LabelEncoder()\n",
        "y = encoder.fit_transform(y)\n",
        "print(y)"
      ]
    },
    {
      "cell_type": "code",
      "source": [
        "import numpy as np\n",
        "import random\n",
        "import tensorflow as tf\n",
        "from tensorflow.keras import layers, models\n",
        "from sklearn.model_selection import train_test_split\n",
        "\n",
        "# Assuming you have X and y defined somewhere before this code\n",
        "\n",
        "# Split the data into training and testing sets\n",
        "X_train, X_test, y_train, y_test = train_test_split(np.array(X), np.array(y),\n",
        "                                                    test_size=0.2, random_state=42)\n",
        "\n",
        "# Define the CNN model\n",
        "cnnModel = models.Sequential()\n",
        "\n",
        "cnnModel.add(layers.Conv2D(10, (3, 3), activation=\"relu\", input_shape=(120, 120, 3)))\n",
        "cnnModel.add(layers.MaxPooling2D((2, 2)))\n",
        "\n",
        "cnnModel.add(layers.Conv2D(64, (3, 3), activation=\"relu\"))\n",
        "cnnModel.add(layers.MaxPooling2D((2, 2)))\n",
        "\n",
        "cnnModel.add(layers.Conv2D(64, (3, 3), activation=\"relu\"))\n",
        "cnnModel.add(layers.Flatten())\n",
        "\n",
        "cnnModel.add(layers.Dense(64, activation=\"relu\"))\n",
        "cnnModel.add(layers.Dense(32, activation=\"relu\"))\n",
        "cnnModel.add(layers.Dense(1, activation=\"sigmoid\"))\n",
        "\n",
        "cnnModel.summary()\n",
        "\n",
        "# Compile the model\n",
        "cnnModel.compile(optimizer=\"adam\", loss=\"binary_crossentropy\", metrics=[\"accuracy\"])\n",
        "\n",
        "# Train the model\n",
        "cnnModel.fit(X_train, y_train, epochs=20, batch_size=32)\n",
        "\n",
        "# Evaluate the model on the test set\n",
        "testLoss, testAccuracy = cnnModel.evaluate(X_test, y_test)\n",
        "print(\"Test Accuracy:\", testAccuracy)\n",
        "\n",
        "# Save the model weights\n",
        "cnnModel.save_weights('./my_checkpoint')\n"
      ],
      "metadata": {
        "colab": {
          "base_uri": "https://localhost:8080/"
        },
        "id": "NCBgNvl0AW7k",
        "outputId": "086199f6-4200-4faf-beb7-3c686588047a"
      },
      "execution_count": null,
      "outputs": [
        {
          "output_type": "stream",
          "name": "stdout",
          "text": [
            "Model: \"sequential\"\n",
            "_________________________________________________________________\n",
            " Layer (type)                Output Shape              Param #   \n",
            "=================================================================\n",
            " conv2d (Conv2D)             (None, 118, 118, 10)      280       \n",
            "                                                                 \n",
            " max_pooling2d (MaxPooling2  (None, 59, 59, 10)        0         \n",
            " D)                                                              \n",
            "                                                                 \n",
            " conv2d_1 (Conv2D)           (None, 57, 57, 64)        5824      \n",
            "                                                                 \n",
            " max_pooling2d_1 (MaxPoolin  (None, 28, 28, 64)        0         \n",
            " g2D)                                                            \n",
            "                                                                 \n",
            " conv2d_2 (Conv2D)           (None, 26, 26, 64)        36928     \n",
            "                                                                 \n",
            " flatten (Flatten)           (None, 43264)             0         \n",
            "                                                                 \n",
            " dense (Dense)               (None, 64)                2768960   \n",
            "                                                                 \n",
            " dense_1 (Dense)             (None, 32)                2080      \n",
            "                                                                 \n",
            " dense_2 (Dense)             (None, 1)                 33        \n",
            "                                                                 \n",
            "=================================================================\n",
            "Total params: 2814105 (10.73 MB)\n",
            "Trainable params: 2814105 (10.73 MB)\n",
            "Non-trainable params: 0 (0.00 Byte)\n",
            "_________________________________________________________________\n",
            "Epoch 1/20\n",
            "4/4 [==============================] - 4s 437ms/step - loss: 1.1188 - accuracy: 0.7921\n",
            "Epoch 2/20\n",
            "4/4 [==============================] - 2s 495ms/step - loss: 0.5826 - accuracy: 0.7921\n",
            "Epoch 3/20\n",
            "4/4 [==============================] - 2s 353ms/step - loss: 0.3426 - accuracy: 0.7921\n",
            "Epoch 4/20\n",
            "4/4 [==============================] - 1s 291ms/step - loss: 0.2324 - accuracy: 0.8416\n",
            "Epoch 5/20\n",
            "4/4 [==============================] - 1s 284ms/step - loss: 0.1615 - accuracy: 0.9307\n",
            "Epoch 6/20\n",
            "4/4 [==============================] - 1s 277ms/step - loss: 0.1225 - accuracy: 0.9802\n",
            "Epoch 7/20\n",
            "4/4 [==============================] - 1s 281ms/step - loss: 0.0755 - accuracy: 1.0000\n",
            "Epoch 8/20\n",
            "4/4 [==============================] - 1s 294ms/step - loss: 0.0345 - accuracy: 1.0000\n",
            "Epoch 9/20\n",
            "4/4 [==============================] - 1s 287ms/step - loss: 0.0062 - accuracy: 1.0000\n",
            "Epoch 10/20\n",
            "4/4 [==============================] - 1s 284ms/step - loss: 0.0021 - accuracy: 1.0000\n",
            "Epoch 11/20\n",
            "4/4 [==============================] - 2s 395ms/step - loss: 0.0012 - accuracy: 1.0000\n",
            "Epoch 12/20\n",
            "4/4 [==============================] - 2s 524ms/step - loss: 0.0058 - accuracy: 1.0000\n",
            "Epoch 13/20\n",
            "4/4 [==============================] - 2s 423ms/step - loss: 0.2749 - accuracy: 0.9109\n",
            "Epoch 14/20\n",
            "4/4 [==============================] - 1s 283ms/step - loss: 0.2032 - accuracy: 0.9406\n",
            "Epoch 15/20\n",
            "4/4 [==============================] - 1s 293ms/step - loss: 0.0735 - accuracy: 0.9604\n",
            "Epoch 16/20\n",
            "4/4 [==============================] - 1s 286ms/step - loss: 0.0061 - accuracy: 1.0000\n",
            "Epoch 17/20\n",
            "4/4 [==============================] - 1s 294ms/step - loss: 3.3555e-04 - accuracy: 1.0000\n",
            "Epoch 18/20\n",
            "4/4 [==============================] - 1s 294ms/step - loss: 2.6628e-04 - accuracy: 1.0000\n",
            "Epoch 19/20\n",
            "4/4 [==============================] - 1s 292ms/step - loss: 3.5430e-04 - accuracy: 1.0000\n",
            "Epoch 20/20\n",
            "4/4 [==============================] - 1s 286ms/step - loss: 1.6289e-04 - accuracy: 1.0000\n",
            "1/1 [==============================] - 1s 565ms/step - loss: 1.2900e-04 - accuracy: 1.0000\n",
            "Test Accuracy: 1.0\n"
          ]
        }
      ]
    },
    {
      "cell_type": "code",
      "execution_count": null,
      "metadata": {
        "colab": {
          "base_uri": "https://localhost:8080/"
        },
        "id": "xdk3Nd05a61w",
        "outputId": "d4ddda78-161b-4cd7-cbac-212b1c5d61d8"
      },
      "outputs": [
        {
          "output_type": "stream",
          "name": "stdout",
          "text": [
            "1/1 [==============================] - 0s 199ms/step\n",
            "[[0]\n",
            " [1]\n",
            " [1]\n",
            " [1]\n",
            " [1]\n",
            " [1]\n",
            " [1]\n",
            " [1]\n",
            " [1]\n",
            " [1]\n",
            " [1]\n",
            " [0]\n",
            " [0]\n",
            " [1]\n",
            " [1]\n",
            " [1]\n",
            " [0]\n",
            " [1]\n",
            " [0]\n",
            " [1]\n",
            " [0]\n",
            " [1]\n",
            " [1]\n",
            " [1]\n",
            " [0]\n",
            " [1]]\n"
          ]
        }
      ],
      "source": [
        "y_pred = (cnnModel.predict(X_test) > 0.5).astype(\"int32\")\n",
        "print(y_pred)"
      ]
    },
    {
      "cell_type": "code",
      "execution_count": null,
      "metadata": {
        "colab": {
          "base_uri": "https://localhost:8080/",
          "height": 448
        },
        "id": "-yJrLwMra612",
        "outputId": "e0cb75e9-11b9-44a6-f9d3-b5b373771cbd"
      },
      "outputs": [
        {
          "output_type": "execute_result",
          "data": {
            "text/plain": [
              "<Axes: >"
            ]
          },
          "metadata": {},
          "execution_count": 15
        },
        {
          "output_type": "display_data",
          "data": {
            "text/plain": [
              "<Figure size 640x480 with 2 Axes>"
            ],
            "image/png": "[encoded data removed]"
          },
          "metadata": {}
        }
      ],
      "source": [
        "from sklearn.metrics import confusion_matrix\n",
        "import seaborn as sns\n",
        "\n",
        "cm = confusion_matrix(y_test, y_pred)\n",
        "sns.heatmap(cm,cmap='Greens', annot=True, xticklabels = [\"Lemon\", \"Melon\"],yticklabels = [\"Lemon\", \"Melon\"])\n"
      ]
    },
    {
      "cell_type": "code",
      "execution_count": null,
      "metadata": {
        "colab": {
          "base_uri": "https://localhost:8080/",
          "height": 466
        },
        "id": "Di7Osknwa613",
        "outputId": "60fb5f70-fb7c-4401-d399-18b80fee7846"
      },
      "outputs": [
        {
          "output_type": "stream",
          "name": "stdout",
          "text": [
            "1/1 [==============================] - 0s 197ms/step\n"
          ]
        },
        {
          "output_type": "display_data",
          "data": {
            "text/plain": [
              "<Figure size 640x480 with 1 Axes>"
            ],
            "image/png": "[encoded data removed]"
          },
          "metadata": {}
        }
      ],
      "source": [
        "from sklearn.metrics import roc_curve\n",
        "from matplotlib import pyplot as plt\n",
        "\n",
        "pred_prob = cnnModel.predict(X_test)\n",
        "pr1, tpr1, thresh1 = roc_curve(y_test, pred_prob, pos_label=1)\n",
        "\n",
        "\n",
        "random_probs = [0 for i in range(len(y_test))]\n",
        "p_fpr, p_tpr, _ = roc_curve(y_test, random_probs, pos_label=1)\n",
        "\n",
        "plt.plot(pr1, tpr1, linestyle='--', label='CNN')\n",
        "plt.plot(p_fpr, p_tpr, linestyle='--')\n",
        "\n",
        "plt.xlabel('False Positive Rate')\n",
        "plt.ylabel('True Positive Rate')\n",
        "plt.legend()\n",
        "plt.show()"
      ]
    },
    {
      "cell_type": "markdown",
      "metadata": {
        "id": "g0cKknS-a615"
      },
      "source": [
        "https://www.analyticsvidhya.com/blog/2020/06/auc-roc-curve-machine-learning/"
      ]
    },
    {
      "cell_type": "code",
      "execution_count": null,
      "metadata": {
        "id": "GoJeAMc-a617"
      },
      "outputs": [],
      "source": []
    }
  ],
  "metadata": {
    "kernelspec": {
      "display_name": "Python 3",
      "language": "python",
      "name": "python3"
    },
    "language_info": {
      "codemirror_mode": {
        "name": "ipython",
        "version": 3
      },
      "file_extension": ".py",
      "mimetype": "text/x-python",
      "name": "python",
      "nbconvert_exporter": "python",
      "pygments_lexer": "ipython3",
      "version": "3.8.5"
    },
    "colab": {
      "provenance": [],
      "include_colab_link": true
    }
  },
  "nbformat": 4,
  "nbformat_minor": 0
}