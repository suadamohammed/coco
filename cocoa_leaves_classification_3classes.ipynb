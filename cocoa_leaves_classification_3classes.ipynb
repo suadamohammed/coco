{
  "cells": [
    {
      "cell_type": "code",
      "source": [
        "from google.colab import drive\n",
        "drive.mount('/content/drive')"
      ],
      "metadata": {
        "colab": {
          "base_uri": "https://localhost:8080/"
        },
        "id": "JlIQE4cxbCrJ",
        "outputId": "63b3b40d-1643-41bb-94f3-94aec6df349b"
      },
      "execution_count": null,
      "outputs": [
        {
          "output_type": "stream",
          "name": "stdout",
          "text": [
            "Mounted at /content/drive\n"
          ]
        }
      ]
    },
    {
      "cell_type": "code",
      "execution_count": 1,
      "metadata": {
        "colab": {
          "base_uri": "https://localhost:8080/"
        },
        "id": "zQK9VFEZa61f",
        "outputId": "f850cf56-0a80-426d-be16-da23048935fc"
      },
      "outputs": [
        {
          "output_type": "stream",
          "name": "stdout",
          "text": [
            "Healthy,no of files,28\n",
            "ManganeseDef,no of files,50\n",
            "MagnesiumDef,no of files,50\n",
            "(128, 120, 120, 3)\n",
            "['Healthy', 'Healthy', 'Healthy', 'Healthy', 'Healthy', 'Healthy', 'Healthy', 'Healthy', 'Healthy', 'Healthy', 'Healthy', 'Healthy', 'Healthy', 'Healthy', 'Healthy', 'Healthy', 'Healthy', 'Healthy', 'Healthy', 'Healthy', 'Healthy', 'Healthy', 'Healthy', 'Healthy', 'Healthy', 'Healthy', 'Healthy', 'Healthy', 'ManganeseDef', 'ManganeseDef', 'ManganeseDef', 'ManganeseDef', 'ManganeseDef', 'ManganeseDef', 'ManganeseDef', 'ManganeseDef', 'ManganeseDef', 'ManganeseDef', 'ManganeseDef', 'ManganeseDef', 'ManganeseDef', 'ManganeseDef', 'ManganeseDef', 'ManganeseDef', 'ManganeseDef', 'ManganeseDef', 'ManganeseDef', 'ManganeseDef', 'ManganeseDef', 'ManganeseDef', 'ManganeseDef', 'ManganeseDef', 'ManganeseDef', 'ManganeseDef', 'ManganeseDef', 'ManganeseDef', 'ManganeseDef', 'ManganeseDef', 'ManganeseDef', 'ManganeseDef', 'ManganeseDef', 'ManganeseDef', 'ManganeseDef', 'ManganeseDef', 'ManganeseDef', 'ManganeseDef', 'ManganeseDef', 'ManganeseDef', 'ManganeseDef', 'ManganeseDef', 'ManganeseDef', 'ManganeseDef', 'ManganeseDef', 'ManganeseDef', 'ManganeseDef', 'ManganeseDef', 'ManganeseDef', 'ManganeseDef', 'MagnesiumDef', 'MagnesiumDef', 'MagnesiumDef', 'MagnesiumDef', 'MagnesiumDef', 'MagnesiumDef', 'MagnesiumDef', 'MagnesiumDef', 'MagnesiumDef', 'MagnesiumDef', 'MagnesiumDef', 'MagnesiumDef', 'MagnesiumDef', 'MagnesiumDef', 'MagnesiumDef', 'MagnesiumDef', 'MagnesiumDef', 'MagnesiumDef', 'MagnesiumDef', 'MagnesiumDef', 'MagnesiumDef', 'MagnesiumDef', 'MagnesiumDef', 'MagnesiumDef', 'MagnesiumDef', 'MagnesiumDef', 'MagnesiumDef', 'MagnesiumDef', 'MagnesiumDef', 'MagnesiumDef', 'MagnesiumDef', 'MagnesiumDef', 'MagnesiumDef', 'MagnesiumDef', 'MagnesiumDef', 'MagnesiumDef', 'MagnesiumDef', 'MagnesiumDef', 'MagnesiumDef', 'MagnesiumDef', 'MagnesiumDef', 'MagnesiumDef', 'MagnesiumDef', 'MagnesiumDef', 'MagnesiumDef', 'MagnesiumDef', 'MagnesiumDef', 'MagnesiumDef', 'MagnesiumDef', 'MagnesiumDef']\n"
          ]
        }
      ],
      "source": [
        "import os\n",
        "from PIL import Image\n",
        "import numpy as np\n",
        "import os\n",
        "\n",
        "\n",
        "X = []\n",
        "y = []\n",
        "\n",
        "base_path='/content/drive/MyDrive/ICAR_Coco'\n",
        "source_path=base_path\n",
        "\n",
        "for child in os.listdir(source_path)[:]:\n",
        "    count_child=0\n",
        "    sub_path = os.path.join(source_path, child)\n",
        "    if os.path.isdir(sub_path):\n",
        "        for data_file in os.listdir(sub_path)[:50]:\n",
        "            count_child+=1\n",
        "            X_i = Image.open(os.path.join(sub_path, data_file))\n",
        "            X_i = np.array(X_i.resize((120,120))) / 255.0\n",
        "            X.append(X_i)\n",
        "            y.append(child)\n",
        "        print(f\"{child},no of files,{count_child}\")\n",
        "print(np.shape(X))\n",
        "print(y)"
      ]
    },
    {
      "cell_type": "code",
      "source": [
        "from sklearn.preprocessing import LabelBinarizer\n",
        "\n",
        "# Assuming your original labels are in the variable 'y'\n",
        "encoder = LabelBinarizer()\n",
        "y1 = encoder.fit_transform(y)\n"
      ],
      "metadata": {
        "colab": {
          "base_uri": "https://localhost:8080/"
        },
        "id": "0fbzhRCwlP_g",
        "outputId": "7f970dd4-2315-4480-fde3-9698d97aa155"
      },
      "execution_count": 4,
      "outputs": [
        {
          "output_type": "stream",
          "name": "stdout",
          "text": [
            "[[1 0 0]\n",
            " [1 0 0]\n",
            " [1 0 0]\n",
            " [1 0 0]\n",
            " [1 0 0]\n",
            " [1 0 0]\n",
            " [1 0 0]\n",
            " [1 0 0]\n",
            " [1 0 0]\n",
            " [1 0 0]\n",
            " [1 0 0]\n",
            " [1 0 0]\n",
            " [1 0 0]\n",
            " [1 0 0]\n",
            " [1 0 0]\n",
            " [1 0 0]\n",
            " [1 0 0]\n",
            " [1 0 0]\n",
            " [1 0 0]\n",
            " [1 0 0]\n",
            " [1 0 0]\n",
            " [1 0 0]\n",
            " [1 0 0]\n",
            " [1 0 0]\n",
            " [1 0 0]\n",
            " [1 0 0]\n",
            " [1 0 0]\n",
            " [1 0 0]\n",
            " [0 0 1]\n",
            " [0 0 1]\n",
            " [0 0 1]\n",
            " [0 0 1]\n",
            " [0 0 1]\n",
            " [0 0 1]\n",
            " [0 0 1]\n",
            " [0 0 1]\n",
            " [0 0 1]\n",
            " [0 0 1]\n",
            " [0 0 1]\n",
            " [0 0 1]\n",
            " [0 0 1]\n",
            " [0 0 1]\n",
            " [0 0 1]\n",
            " [0 0 1]\n",
            " [0 0 1]\n",
            " [0 0 1]\n",
            " [0 0 1]\n",
            " [0 0 1]\n",
            " [0 0 1]\n",
            " [0 0 1]\n",
            " [0 0 1]\n",
            " [0 0 1]\n",
            " [0 0 1]\n",
            " [0 0 1]\n",
            " [0 0 1]\n",
            " [0 0 1]\n",
            " [0 0 1]\n",
            " [0 0 1]\n",
            " [0 0 1]\n",
            " [0 0 1]\n",
            " [0 0 1]\n",
            " [0 0 1]\n",
            " [0 0 1]\n",
            " [0 0 1]\n",
            " [0 0 1]\n",
            " [0 0 1]\n",
            " [0 0 1]\n",
            " [0 0 1]\n",
            " [0 0 1]\n",
            " [0 0 1]\n",
            " [0 0 1]\n",
            " [0 0 1]\n",
            " [0 0 1]\n",
            " [0 0 1]\n",
            " [0 0 1]\n",
            " [0 0 1]\n",
            " [0 0 1]\n",
            " [0 0 1]\n",
            " [0 1 0]\n",
            " [0 1 0]\n",
            " [0 1 0]\n",
            " [0 1 0]\n",
            " [0 1 0]\n",
            " [0 1 0]\n",
            " [0 1 0]\n",
            " [0 1 0]\n",
            " [0 1 0]\n",
            " [0 1 0]\n",
            " [0 1 0]\n",
            " [0 1 0]\n",
            " [0 1 0]\n",
            " [0 1 0]\n",
            " [0 1 0]\n",
            " [0 1 0]\n",
            " [0 1 0]\n",
            " [0 1 0]\n",
            " [0 1 0]\n",
            " [0 1 0]\n",
            " [0 1 0]\n",
            " [0 1 0]\n",
            " [0 1 0]\n",
            " [0 1 0]\n",
            " [0 1 0]\n",
            " [0 1 0]\n",
            " [0 1 0]\n",
            " [0 1 0]\n",
            " [0 1 0]\n",
            " [0 1 0]\n",
            " [0 1 0]\n",
            " [0 1 0]\n",
            " [0 1 0]\n",
            " [0 1 0]\n",
            " [0 1 0]\n",
            " [0 1 0]\n",
            " [0 1 0]\n",
            " [0 1 0]\n",
            " [0 1 0]\n",
            " [0 1 0]\n",
            " [0 1 0]\n",
            " [0 1 0]\n",
            " [0 1 0]\n",
            " [0 1 0]\n",
            " [0 1 0]\n",
            " [0 1 0]\n",
            " [0 1 0]\n",
            " [0 1 0]\n",
            " [0 1 0]\n",
            " [0 1 0]]\n"
          ]
        }
      ]
    },
    {
      "cell_type": "code",
      "source": [
        "import numpy as np\n",
        "import random\n",
        "import tensorflow as tf\n",
        "from tensorflow.keras import layers, models\n",
        "from sklearn.model_selection import train_test_split\n",
        "\n",
        "# Assuming you have X and y defined somewhere before this code\n",
        "\n",
        "# Split the data into training and testing sets\n",
        "X_train, X_test, y_train, y_test = train_test_split(np.array(X), np.array(y1),\n",
        "                                                    test_size=0.2, random_state=42)\n",
        "\n",
        "# Define the CNN model\n",
        "cnnModel = models.Sequential()\n",
        "\n",
        "cnnModel.add(layers.Conv2D(32, (3, 3), activation=\"relu\", input_shape=(120, 120, 3)))\n",
        "cnnModel.add(layers.Conv2D(64, (3, 3), activation=\"relu\"))\n",
        "cnnModel.add(layers.MaxPooling2D((2, 2)))\n",
        "cnnModel.add(layers.Conv2D(128, (3, 3), activation=\"relu\"))\n",
        "cnnModel.add(layers.Conv2D(128, (3, 3), activation=\"relu\"))\n",
        "cnnModel.add(layers.Flatten())\n",
        "\n",
        "cnnModel.add(layers.Dense(64, activation=\"relu\"))\n",
        "cnnModel.add(layers.Dense(32, activation=\"relu\"))\n",
        "cnnModel.add(layers.Dense(3, activation=\"sigmoid\"))\n",
        "\n",
        "cnnModel.summary()\n",
        "\n",
        "# Compile the model\n",
        "cnnModel.compile(optimizer=\"adam\", loss=\"categorical_crossentropy\", metrics=[\"accuracy\"])\n",
        "\n",
        "# Train the model\n",
        "cnnModel.fit(X_train, y_train, epochs=10, batch_size=32)\n",
        "\n",
        "# Evaluate the model on the test set\n",
        "testLoss, testAccuracy = cnnModel.evaluate(X_test, y_test)\n",
        "print(\"Test Accuracy:\", testAccuracy)\n",
        "\n",
        "\n"
      ],
      "metadata": {
        "colab": {
          "base_uri": "https://localhost:8080/"
        },
        "id": "NCBgNvl0AW7k",
        "outputId": "950a3c2e-cea0-4bfe-f9f0-3d6159391dbd"
      },
      "execution_count": 3,
      "outputs": [
        {
          "output_type": "stream",
          "name": "stdout",
          "text": [
            "Model: \"sequential\"\n",
            "_________________________________________________________________\n",
            " Layer (type)                Output Shape              Param #   \n",
            "=================================================================\n",
            " conv2d (Conv2D)             (None, 118, 118, 32)      896       \n",
            "                                                                 \n",
            " conv2d_1 (Conv2D)           (None, 116, 116, 64)      18496     \n",
            "                                                                 \n",
            " max_pooling2d (MaxPooling2  (None, 58, 58, 64)        0         \n",
            " D)                                                              \n",
            "                                                                 \n",
            " conv2d_2 (Conv2D)           (None, 56, 56, 128)       73856     \n",
            "                                                                 \n",
            " conv2d_3 (Conv2D)           (None, 54, 54, 128)       147584    \n",
            "                                                                 \n",
            " flatten (Flatten)           (None, 373248)            0         \n",
            "                                                                 \n",
            " dense (Dense)               (None, 64)                23887936  \n",
            "                                                                 \n",
            " dense_1 (Dense)             (None, 32)                2080      \n",
            "                                                                 \n",
            " dense_2 (Dense)             (None, 3)                 99        \n",
            "                                                                 \n",
            "=================================================================\n",
            "Total params: 24130947 (92.05 MB)\n",
            "Trainable params: 24130947 (92.05 MB)\n",
            "Non-trainable params: 0 (0.00 Byte)\n",
            "_________________________________________________________________\n",
            "Epoch 1/10\n",
            "4/4 [==============================] - 33s 8s/step - loss: 2.7709 - accuracy: 0.3137\n",
            "Epoch 2/10\n",
            "4/4 [==============================] - 20s 5s/step - loss: 1.0616 - accuracy: 0.4804\n",
            "Epoch 3/10\n",
            "4/4 [==============================] - 17s 4s/step - loss: 0.8076 - accuracy: 0.5784\n",
            "Epoch 4/10\n",
            "4/4 [==============================] - 17s 4s/step - loss: 0.5463 - accuracy: 0.7843\n",
            "Epoch 5/10\n",
            "4/4 [==============================] - 21s 5s/step - loss: 0.3361 - accuracy: 0.8529\n",
            "Epoch 6/10\n",
            "4/4 [==============================] - 22s 4s/step - loss: 0.2077 - accuracy: 0.9314\n",
            "Epoch 7/10\n",
            "4/4 [==============================] - 17s 4s/step - loss: 1.0460 - accuracy: 0.8039\n",
            "Epoch 8/10\n",
            "4/4 [==============================] - 17s 4s/step - loss: 0.3554 - accuracy: 0.8039\n",
            "Epoch 9/10\n",
            "4/4 [==============================] - 16s 4s/step - loss: 0.1788 - accuracy: 0.9608\n",
            "Epoch 10/10\n",
            "4/4 [==============================] - 16s 4s/step - loss: 0.1313 - accuracy: 0.9608\n",
            "1/1 [==============================] - 1s 1s/step - loss: 0.0580 - accuracy: 1.0000\n",
            "Test Accuracy: 1.0\n"
          ]
        }
      ]
    },
    {
      "cell_type": "code",
      "source": [
        "cnnModel.save('coco-3class.h5')"
      ],
      "metadata": {
        "id": "oV-97zA9mE03"
      },
      "execution_count": 6,
      "outputs": []
    },
    {
      "cell_type": "code",
      "source": [
        "y_pred_prob = cnnModel.predict(X_test)\n",
        "y_pred = y_pred_prob.argmax(axis=1)\n",
        "print(y_pred)"
      ],
      "metadata": {
        "colab": {
          "base_uri": "https://localhost:8080/"
        },
        "id": "-nOpiSEwnYxp",
        "outputId": "538b2bd0-1797-44a1-9bb7-b94e32def0af"
      },
      "execution_count": 8,
      "outputs": [
        {
          "output_type": "stream",
          "name": "stdout",
          "text": [
            "1/1 [==============================] - 1s 1s/step\n",
            "[2 2 0 2 1 2 2 1 1 0 1 0 2 0 1 1 2 1 1 1 0 0 1 0 1 2]\n"
          ]
        }
      ]
    },
    {
      "cell_type": "code",
      "source": [
        "\n",
        "loss, accuracy = cnnModel.evaluate(X_test, y_test)\n",
        "metrics = cnnModel.metrics_names\n",
        "results = {metric: value for metric, value in zip(metrics, [loss] + [accuracy])}\n",
        "print(\"Loss:\", results[\"loss\"])\n",
        "print(\"Accuracy:\", results[\"accuracy\"])\n",
        "\n"
      ],
      "metadata": {
        "colab": {
          "base_uri": "https://localhost:8080/"
        },
        "id": "FAhU5c40nmHq",
        "outputId": "f14fb080-31c9-4f54-cb90-90f76f245a2a"
      },
      "execution_count": 23,
      "outputs": [
        {
          "output_type": "stream",
          "name": "stdout",
          "text": [
            "2/2 [==============================] - 1s 167ms/step - loss: 0.2511 - accuracy: 0.9149\n",
            "Loss: 0.2510806918144226\n",
            "Accuracy: 0.914893627166748\n"
          ]
        }
      ]
    },
    {
      "cell_type": "code",
      "source": [
        "# Assuming you have the classes used for one-hot encoding\n",
        "class_labels = encoder.classes_\n",
        "\n",
        "# Get the class labels for y_pred\n",
        "y_pred_labels = class_labels[y_pred]\n"
      ],
      "metadata": {
        "id": "nUvvJXLQsY4O"
      },
      "execution_count": 13,
      "outputs": []
    },
    {
      "cell_type": "code",
      "source": [
        "from sklearn.metrics import confusion_matrix, classification_report\n",
        "\n",
        "# Confusion Matrix\n",
        "confusion = confusion_matrix(y_test_labels, y_pred_labels)\n",
        "print(\"Confusion Matrix:\")\n",
        "print(confusion)\n",
        "\n",
        "# Classification Report\n",
        "report = classification_report(y_test_labels, y_pred_labels)\n",
        "print(\"Classification Report:\")\n",
        "print(report)\n"
      ],
      "metadata": {
        "colab": {
          "base_uri": "https://localhost:8080/"
        },
        "id": "wZ_6Y0lvrfMV",
        "outputId": "7cd43804-1e12-438b-e0b8-cc1fe412bfb4"
      },
      "execution_count": 14,
      "outputs": [
        {
          "output_type": "stream",
          "name": "stdout",
          "text": [
            "Confusion Matrix:\n",
            "[[ 7  0  0]\n",
            " [ 0 11  0]\n",
            " [ 0  0  8]]\n",
            "Classification Report:\n",
            "              precision    recall  f1-score   support\n",
            "\n",
            "     Healthy       1.00      1.00      1.00         7\n",
            "MagnesiumDef       1.00      1.00      1.00        11\n",
            "ManganeseDef       1.00      1.00      1.00         8\n",
            "\n",
            "    accuracy                           1.00        26\n",
            "   macro avg       1.00      1.00      1.00        26\n",
            "weighted avg       1.00      1.00      1.00        26\n",
            "\n"
          ]
        }
      ]
    },
    {
      "cell_type": "code",
      "source": [
        "from sklearn.metrics import confusion_matrix,classification_report\n",
        "import seaborn as sns\n",
        "\n",
        "#np.argmax(y_test.values, axis=1)\n",
        "print(classification_report(y_test_labels,y_pred_labels))\n",
        "\n",
        "cm = confusion_matrix(y_test_labels,y_pred_labels)\n",
        "sns.heatmap(cm,cmap='Greens', annot=True, fmt='d',xticklabels = [ 'healthy', 'ManganeseDef', 'MagnesiumDef'],yticklabels = ['healthy', 'ManganeseDef', 'MagnesiumDef'])\n",
        "\n",
        "#sns.heatmap(cm,cmap='Greens', annot=True,fmt='d', xticklabels = [ 'erlang','exponential', 'gaussian', 'lognormal', 'poisson', 'rayleigh', 'saltpepper', 'speckle','uniform'],yticklabels = ['erlang','exponential', 'gaussian', 'lognormal', 'poisson', 'rayleigh', 'saltpepper', 'speckle','uniform'])\n"
      ],
      "metadata": {
        "colab": {
          "base_uri": "https://localhost:8080/",
          "height": 610
        },
        "id": "aAhsN5Lot47A",
        "outputId": "b6bd41c5-3e65-46b3-c0a3-4fa760a5eca4"
      },
      "execution_count": 28,
      "outputs": [
        {
          "output_type": "stream",
          "name": "stdout",
          "text": [
            "              precision    recall  f1-score   support\n",
            "\n",
            "     Healthy       1.00      1.00      1.00         7\n",
            "MagnesiumDef       1.00      1.00      1.00        11\n",
            "ManganeseDef       1.00      1.00      1.00         8\n",
            "\n",
            "    accuracy                           1.00        26\n",
            "   macro avg       1.00      1.00      1.00        26\n",
            "weighted avg       1.00      1.00      1.00        26\n",
            "\n"
          ]
        },
        {
          "output_type": "execute_result",
          "data": {
            "text/plain": [
              "<Axes: >"
            ]
          },
          "metadata": {},
          "execution_count": 28
        },
        {
          "output_type": "display_data",
          "data": {
            "text/plain": [
              "<Figure size 640x480 with 2 Axes>"
            ],
            "image/png": "[encoded data removed]"
          },
          "metadata": {}
        }
      ]
    },
    {
      "cell_type": "code",
      "execution_count": 23,
      "metadata": {
        "colab": {
          "base_uri": "https://localhost:8080/",
          "height": 391
        },
        "id": "Di7Osknwa613",
        "outputId": "5e6633bd-e42b-438f-fa1d-726931d7bca6"
      },
      "outputs": [
        {
          "output_type": "stream",
          "name": "stdout",
          "text": [
            "1/1 [==============================] - 1s 1s/step\n"
          ]
        },
        {
          "output_type": "error",
          "ename": "ValueError",
          "evalue": "ignored",
          "traceback": [
            "\u001b[0;31m---------------------------------------------------------------------------\u001b[0m",
            "\u001b[0;31mValueError\u001b[0m                                Traceback (most recent call last)",
            "\u001b[0;32m<ipython-input-23-0f1728f160dc>\u001b[0m in \u001b[0;36m<cell line: 5>\u001b[0;34m()\u001b[0m\n\u001b[1;32m      3\u001b[0m \u001b[0;34m\u001b[0m\u001b[0m\n\u001b[1;32m      4\u001b[0m \u001b[0mpred_prob\u001b[0m \u001b[0;34m=\u001b[0m \u001b[0mcnnModel\u001b[0m\u001b[0;34m.\u001b[0m\u001b[0mpredict\u001b[0m\u001b[0;34m(\u001b[0m\u001b[0mX_test\u001b[0m\u001b[0;34m)\u001b[0m\u001b[0;34m\u001b[0m\u001b[0;34m\u001b[0m\u001b[0m\n\u001b[0;32m----> 5\u001b[0;31m \u001b[0mpr1\u001b[0m\u001b[0;34m,\u001b[0m \u001b[0mtpr1\u001b[0m\u001b[0;34m,\u001b[0m \u001b[0mthresh1\u001b[0m \u001b[0;34m=\u001b[0m \u001b[0mroc_curve\u001b[0m\u001b[0;34m(\u001b[0m\u001b[0my_test\u001b[0m\u001b[0;34m,\u001b[0m \u001b[0mpred_prob\u001b[0m\u001b[0;34m,\u001b[0m \u001b[0mpos_label\u001b[0m\u001b[0;34m=\u001b[0m\u001b[0;36m1\u001b[0m\u001b[0;34m)\u001b[0m\u001b[0;34m\u001b[0m\u001b[0;34m\u001b[0m\u001b[0m\n\u001b[0m\u001b[1;32m      6\u001b[0m \u001b[0;34m\u001b[0m\u001b[0m\n\u001b[1;32m      7\u001b[0m \u001b[0;34m\u001b[0m\u001b[0m\n",
            "\u001b[0;32m/usr/local/lib/python3.10/dist-packages/sklearn/metrics/_ranking.py\u001b[0m in \u001b[0;36mroc_curve\u001b[0;34m(y_true, y_score, pos_label, sample_weight, drop_intermediate)\u001b[0m\n\u001b[1;32m    990\u001b[0m     \u001b[0marray\u001b[0m\u001b[0;34m(\u001b[0m\u001b[0;34m[\u001b[0m\u001b[0;36m1.8\u001b[0m \u001b[0;34m,\u001b[0m \u001b[0;36m0.8\u001b[0m \u001b[0;34m,\u001b[0m \u001b[0;36m0.4\u001b[0m \u001b[0;34m,\u001b[0m \u001b[0;36m0.35\u001b[0m\u001b[0;34m,\u001b[0m \u001b[0;36m0.1\u001b[0m \u001b[0;34m]\u001b[0m\u001b[0;34m)\u001b[0m\u001b[0;34m\u001b[0m\u001b[0;34m\u001b[0m\u001b[0m\n\u001b[1;32m    991\u001b[0m     \"\"\"\n\u001b[0;32m--> 992\u001b[0;31m     fps, tps, thresholds = _binary_clf_curve(\n\u001b[0m\u001b[1;32m    993\u001b[0m         \u001b[0my_true\u001b[0m\u001b[0;34m,\u001b[0m \u001b[0my_score\u001b[0m\u001b[0;34m,\u001b[0m \u001b[0mpos_label\u001b[0m\u001b[0;34m=\u001b[0m\u001b[0mpos_label\u001b[0m\u001b[0;34m,\u001b[0m \u001b[0msample_weight\u001b[0m\u001b[0;34m=\u001b[0m\u001b[0msample_weight\u001b[0m\u001b[0;34m\u001b[0m\u001b[0;34m\u001b[0m\u001b[0m\n\u001b[1;32m    994\u001b[0m     )\n",
            "\u001b[0;32m/usr/local/lib/python3.10/dist-packages/sklearn/metrics/_ranking.py\u001b[0m in \u001b[0;36m_binary_clf_curve\u001b[0;34m(y_true, y_score, pos_label, sample_weight)\u001b[0m\n\u001b[1;32m    747\u001b[0m     \u001b[0my_type\u001b[0m \u001b[0;34m=\u001b[0m \u001b[0mtype_of_target\u001b[0m\u001b[0;34m(\u001b[0m\u001b[0my_true\u001b[0m\u001b[0;34m,\u001b[0m \u001b[0minput_name\u001b[0m\u001b[0;34m=\u001b[0m\u001b[0;34m\"y_true\"\u001b[0m\u001b[0;34m)\u001b[0m\u001b[0;34m\u001b[0m\u001b[0;34m\u001b[0m\u001b[0m\n\u001b[1;32m    748\u001b[0m     \u001b[0;32mif\u001b[0m \u001b[0;32mnot\u001b[0m \u001b[0;34m(\u001b[0m\u001b[0my_type\u001b[0m \u001b[0;34m==\u001b[0m \u001b[0;34m\"binary\"\u001b[0m \u001b[0;32mor\u001b[0m \u001b[0;34m(\u001b[0m\u001b[0my_type\u001b[0m \u001b[0;34m==\u001b[0m \u001b[0;34m\"multiclass\"\u001b[0m \u001b[0;32mand\u001b[0m \u001b[0mpos_label\u001b[0m \u001b[0;32mis\u001b[0m \u001b[0;32mnot\u001b[0m \u001b[0;32mNone\u001b[0m\u001b[0;34m)\u001b[0m\u001b[0;34m)\u001b[0m\u001b[0;34m:\u001b[0m\u001b[0;34m\u001b[0m\u001b[0;34m\u001b[0m\u001b[0m\n\u001b[0;32m--> 749\u001b[0;31m         \u001b[0;32mraise\u001b[0m \u001b[0mValueError\u001b[0m\u001b[0;34m(\u001b[0m\u001b[0;34m\"{0} format is not supported\"\u001b[0m\u001b[0;34m.\u001b[0m\u001b[0mformat\u001b[0m\u001b[0;34m(\u001b[0m\u001b[0my_type\u001b[0m\u001b[0;34m)\u001b[0m\u001b[0;34m)\u001b[0m\u001b[0;34m\u001b[0m\u001b[0;34m\u001b[0m\u001b[0m\n\u001b[0m\u001b[1;32m    750\u001b[0m \u001b[0;34m\u001b[0m\u001b[0m\n\u001b[1;32m    751\u001b[0m     \u001b[0mcheck_consistent_length\u001b[0m\u001b[0;34m(\u001b[0m\u001b[0my_true\u001b[0m\u001b[0;34m,\u001b[0m \u001b[0my_score\u001b[0m\u001b[0;34m,\u001b[0m \u001b[0msample_weight\u001b[0m\u001b[0;34m)\u001b[0m\u001b[0;34m\u001b[0m\u001b[0;34m\u001b[0m\u001b[0m\n",
            "\u001b[0;31mValueError\u001b[0m: multilabel-indicator format is not supported"
          ]
        }
      ],
      "source": [
        "from sklearn.metrics import roc_curve\n",
        "from matplotlib import pyplot as plt\n",
        "\n",
        "pred_prob = cnnModel.predict(X_test)\n",
        "pr1, tpr1, thresh1 = roc_curve(y_test, pred_prob, pos_label=1)\n",
        "\n",
        "\n",
        "random_probs = [0 for i in range(len(y_test))]\n",
        "p_fpr, p_tpr, _ = roc_curve(y_test, random_probs, pos_label=1)\n",
        "\n",
        "plt.plot(pr1, tpr1, linestyle='--', label='CNN')\n",
        "plt.plot(p_fpr, p_tpr, linestyle='--')\n",
        "\n",
        "plt.xlabel('False Positive Rate')\n",
        "plt.ylabel('True Positive Rate')\n",
        "plt.legend()\n",
        "plt.show()"
      ]
    },
    {
      "cell_type": "markdown",
      "metadata": {
        "id": "g0cKknS-a615"
      },
      "source": [
        "https://www.analyticsvidhya.com/blog/2020/06/auc-roc-curve-machine-learning/"
      ]
    },
    {
      "cell_type": "code",
      "execution_count": null,
      "metadata": {
        "id": "GoJeAMc-a617"
      },
      "outputs": [],
      "source": []
    }
  ],
  "metadata": {
    "kernelspec": {
      "display_name": "Python 3",
      "language": "python",
      "name": "python3"
    },
    "language_info": {
      "codemirror_mode": {
        "name": "ipython",
        "version": 3
      },
      "file_extension": ".py",
      "mimetype": "text/x-python",
      "name": "python",
      "nbconvert_exporter": "python",
      "pygments_lexer": "ipython3",
      "version": "3.8.5"
    },
    "colab": {
      "provenance": []
    }
  },
  "nbformat": 4,
  "nbformat_minor": 0
}